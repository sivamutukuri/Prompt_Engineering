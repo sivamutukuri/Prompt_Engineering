{
  "nbformat": 4,
  "nbformat_minor": 0,
  "metadata": {
    "colab": {
      "provenance": []
    },
    "kernelspec": {
      "name": "python3",
      "display_name": "Python 3"
    },
    "language_info": {
      "name": "python"
    }
  },
  "cells": [
    {
      "cell_type": "code",
      "execution_count": null,
      "metadata": {
        "colab": {
          "base_uri": "https://localhost:8080/"
        },
        "id": "2Ef0g6Tw_uIL",
        "outputId": "5e3a6153-6a0b-4328-f674-4c7393d9f104"
      },
      "outputs": [
        {
          "output_type": "stream",
          "name": "stdout",
          "text": [
            "Requirement already satisfied: openai in /usr/local/lib/python3.11/dist-packages (1.76.0)\n",
            "Requirement already satisfied: anyio<5,>=3.5.0 in /usr/local/lib/python3.11/dist-packages (from openai) (4.9.0)\n",
            "Requirement already satisfied: distro<2,>=1.7.0 in /usr/local/lib/python3.11/dist-packages (from openai) (1.9.0)\n",
            "Requirement already satisfied: httpx<1,>=0.23.0 in /usr/local/lib/python3.11/dist-packages (from openai) (0.28.1)\n",
            "Requirement already satisfied: jiter<1,>=0.4.0 in /usr/local/lib/python3.11/dist-packages (from openai) (0.9.0)\n",
            "Requirement already satisfied: pydantic<3,>=1.9.0 in /usr/local/lib/python3.11/dist-packages (from openai) (2.11.3)\n",
            "Requirement already satisfied: sniffio in /usr/local/lib/python3.11/dist-packages (from openai) (1.3.1)\n",
            "Requirement already satisfied: tqdm>4 in /usr/local/lib/python3.11/dist-packages (from openai) (4.67.1)\n",
            "Requirement already satisfied: typing-extensions<5,>=4.11 in /usr/local/lib/python3.11/dist-packages (from openai) (4.13.2)\n",
            "Requirement already satisfied: idna>=2.8 in /usr/local/lib/python3.11/dist-packages (from anyio<5,>=3.5.0->openai) (3.10)\n",
            "Requirement already satisfied: certifi in /usr/local/lib/python3.11/dist-packages (from httpx<1,>=0.23.0->openai) (2025.4.26)\n",
            "Requirement already satisfied: httpcore==1.* in /usr/local/lib/python3.11/dist-packages (from httpx<1,>=0.23.0->openai) (1.0.9)\n",
            "Requirement already satisfied: h11>=0.16 in /usr/local/lib/python3.11/dist-packages (from httpcore==1.*->httpx<1,>=0.23.0->openai) (0.16.0)\n",
            "Requirement already satisfied: annotated-types>=0.6.0 in /usr/local/lib/python3.11/dist-packages (from pydantic<3,>=1.9.0->openai) (0.7.0)\n",
            "Requirement already satisfied: pydantic-core==2.33.1 in /usr/local/lib/python3.11/dist-packages (from pydantic<3,>=1.9.0->openai) (2.33.1)\n",
            "Requirement already satisfied: typing-inspection>=0.4.0 in /usr/local/lib/python3.11/dist-packages (from pydantic<3,>=1.9.0->openai) (0.4.0)\n"
          ]
        }
      ],
      "source": [
        "!pip install openai"
      ]
    },
    {
      "cell_type": "code",
      "source": [
        "from google.colab import userdata\n",
        "chat_api=userdata.get('chat')"
      ],
      "metadata": {
        "id": "SzO6i5G7BFCM"
      },
      "execution_count": null,
      "outputs": []
    },
    {
      "cell_type": "code",
      "source": [
        "import openai\n",
        "openai_api_key=chat_api"
      ],
      "metadata": {
        "id": "CZUfdOVFBVQ8"
      },
      "execution_count": null,
      "outputs": []
    },
    {
      "cell_type": "code",
      "source": [
        "from openai import OpenAI\n",
        "\n",
        "# Use the openai_api_key variable instead of the string literal \"openai_api_key\"\n",
        "client = OpenAI(api_key=openai_api_key)\n",
        "\n",
        "response = client.chat.completions.create(\n",
        "    model=\"gpt-4.1\",\n",
        "    messages=[\n",
        "        {\"role\": \"system\", \"content\": \"You are a helpful grocery assistant.\"},\n",
        "        {\"role\": \"user\", \"content\": \"Is palm oil bad for health?\"}\n",
        "    ]\n",
        ")\n",
        "\n",
        "print(response.choices[0].message.content)"
      ],
      "metadata": {
        "colab": {
          "base_uri": "https://localhost:8080/"
        },
        "id": "9eU91vdcBept",
        "outputId": "bc6accab-ed83-481d-ff5f-e40fceddc427"
      },
      "execution_count": null,
      "outputs": [
        {
          "output_type": "stream",
          "name": "stdout",
          "text": [
            "Palm oil is a common ingredient in many processed foods, and its health effects are sometimes debated. Here’s a summary of what current research says:\n",
            "\n",
            "**1. Nutritional Content:**  \n",
            "Palm oil is high in saturated fat (about 50%), but it also contains monounsaturated and polyunsaturated fats. It has vitamin E and some antioxidants.\n",
            "\n",
            "**2. Heart Health:**  \n",
            "- Some studies suggest that consuming a large amount of saturated fat can raise LDL (bad) cholesterol levels, potentially increasing heart disease risk.\n",
            "- However, palm oil’s specific type of saturated fat (mainly palmitic acid) may not have the same impact as saturated fats from animal sources.\n",
            "- Replacing palm oil with unsaturated fats (like olive oil or canola oil) is considered better for heart health.\n",
            "\n",
            "**3. Weight Gain and Metabolism:**  \n",
            "Some research links high consumption of saturated fats, including palm oil, to obesity and poor metabolic health, especially when consumed in excess.\n",
            "\n",
            "**4. Moderate Consumption:**  \n",
            "In moderate amounts, palm oil is generally considered safe for most people. Very high intake is not recommended, especially for those with or at risk for heart disease.\n",
            "\n",
            "**5. Environmental Note:**  \n",
            "Many concerns around palm oil relate to environmental issues like deforestation and habitat loss, rather than direct health effects.\n",
            "\n",
            "**BOTTOM LINE:**  \n",
            "Palm oil is not inherently toxic, but because it’s high in saturated fat, it’s best eaten in moderation—especially compared to oils high in unsaturated fats such as olive or canola oil. Focusing on a balanced diet with a variety of fats is the healthiest approach.\n",
            "\n",
            "If you have specific health conditions (e.g., high cholesterol or heart disease), consult your doctor or a registered dietitian for personalized advice.\n"
          ]
        }
      ]
    },
    {
      "cell_type": "code",
      "source": [
        "from openai import OpenAI\n",
        "\n",
        "def prompt_api(prompt):\n",
        "  client=OpenAI(api_key=openai_api_key)\n",
        "  response=client.chat.completions.create(\n",
        "      model='gpt-4.1',\n",
        "      messages=[\n",
        "          {'role':'system',\n",
        "          'content':'You are a helpful smart assistant.'},\n",
        "          {'role':'user',\n",
        "          'content':prompt}\n",
        "      ]\n",
        "      )\n",
        "  return print(response.choices[0].message.content)\n",
        "\n",
        "\n"
      ],
      "metadata": {
        "id": "e8IQNnMBbULg"
      },
      "execution_count": null,
      "outputs": []
    },
    {
      "cell_type": "code",
      "source": [
        "prompt='''can you tell me about most important interview questions about datascience can you write in point wise and also give answer with specific examples'''\n",
        "prompt_api(prompt)"
      ],
      "metadata": {
        "colab": {
          "base_uri": "https://localhost:8080/"
        },
        "id": "-dKgbvNbhJ7l",
        "outputId": "e7db7592-7941-444e-884e-245a1b69fd8a"
      },
      "execution_count": null,
      "outputs": [
        {
          "output_type": "stream",
          "name": "stdout",
          "text": [
            "Absolutely! Here are some of the most important data science interview questions, with point-wise answers and specific examples:\n",
            "\n",
            "---\n",
            "\n",
            "### 1. **What is the difference between supervised and unsupervised learning?**\n",
            "**Answer:**\n",
            "- **Supervised learning**: The model is trained on labeled data (i.e., input-output pairs). Algorithms map inputs to known outputs.\n",
            "  - **Example**: Spam detection in emails. The model learns from emails tagged as \"spam\" or \"not spam.\"\n",
            "- **Unsupervised learning**: The model works with unlabeled data and tries to find inherent patterns.\n",
            "  - **Example**: Customer segmentation. The algorithm groups customers based on purchasing behavior without prior labels.\n",
            "\n",
            "---\n",
            "\n",
            "### 2. **Explain how you would handle missing data in a dataset.**\n",
            "**Answer:**\n",
            "- **Identify Missing Values**: Use pandas’ `isnull()` or `info()` to check.\n",
            "- **Remove rows/columns:** If the proportion of missing data is high.\n",
            "  - *Example*: If 40% of records in a column are missing, you might choose to drop the column.\n",
            "- **Impute Values:** Fill missing values with mean, median, or mode (for numerical), or the most frequent category (for categorical).\n",
            "  - *Example*: Replacing missing \"Age\" values with the median age.\n",
            "- **Use Algorithms that Support Missing Values:** Some tree-based models like XGBoost can handle missing values internally.\n",
            "\n",
            "---\n",
            "\n",
            "### 3. **How do you prevent overfitting in a model?**\n",
            "**Answer:**\n",
            "- **Cross-validation:** Splitting data into train/test/validation sets or using k-fold cross-validation.\n",
            "- **Regularization:** Adding penalties (like L1/L2) to the loss function.\n",
            "  - *Example*: Ridge regression (L2 regularization) or Lasso (L1).\n",
            "- **Early Stopping:** Monitor model’s performance and stop training when it starts to degrade.\n",
            "- **Pruning (for trees):** Limiting depth or number of leaf nodes.\n",
            "- **Using more data:** Gather or augment more training data.\n",
            "\n",
            "---\n",
            "\n",
            "### 4. **Explain the difference between Type I and Type II errors.**\n",
            "**Answer:**\n",
            "- **Type I error (False Positive):** Rejecting the null hypothesis when it is true.\n",
            "  - *Example*: Diagnosing a healthy patient as sick.\n",
            "- **Type II error (False Negative):** Failing to reject the null hypothesis when it is false.\n",
            "  - *Example*: Failing to detect cancer in a patient who actually has it.\n",
            "\n",
            "---\n",
            "\n",
            "### 5. **How do you evaluate a machine learning model’s performance?**\n",
            "**Answer:**\n",
            "- **Classification:**\n",
            "  - **Accuracy:** % of correct predictions.\n",
            "  - **Precision & Recall:** Precision = TP/(TP+FP); Recall = TP/(TP+FN)\n",
            "  - **F1 Score:** Harmonic mean of precision and recall.\n",
            "  - **ROC-AUC Score:** Area under the ROC curve.\n",
            "  - *Example*: For a spam classifier, high recall is important to catch all spam.\n",
            "- **Regression:**\n",
            "  - **Mean Squared Error (MSE):** Average squared difference between predicted and actual.\n",
            "  - **R² Score:** Proportion of variance explained by the model.\n",
            "  - *Example*: Predicting house prices using MSE.\n",
            "\n",
            "---\n",
            "\n",
            "### 6. **Describe the steps you follow in a data science project.**\n",
            "**Answer:**\n",
            "1. **Understand the Problem:** Business and data goals.\n",
            "2. **Data Collection:** Gather raw data.\n",
            "3. **Data Cleaning and Preprocessing:** Handling missing values, removing duplicates, transformation.\n",
            "4. **Exploratory Data Analysis (EDA):** Visualizing and summarizing data.\n",
            "5. **Feature Engineering:** Creating new features, selecting relevant ones.\n",
            "6. **Model Selection and Training:** Trying multiple algorithms.\n",
            "7. **Model Evaluation:** Using metrics to compare models.\n",
            "8. **Model Deployment:** Putting model into production.\n",
            "- *Example*: Building a credit risk model following these steps.\n",
            "\n",
            "---\n",
            "\n",
            "### 7. **What is bias-variance tradeoff?**\n",
            "**Answer:**\n",
            "- **Bias:** Error due to wrong assumptions, model too simple, underfitting.\n",
            "- **Variance:** Error due to excessive complexity, overfitting to noise in data.\n",
            "- **Tradeoff:** Increase in bias leads to lower variance and vice versa. The goal is to find the balance for the lowest total error.\n",
            "- *Example*: A linear model on a complex nonlinear dataset has high bias, while a deep neural network on a small dataset can have high variance.\n",
            "\n",
            "---\n",
            "\n",
            "### 8. **Can you explain feature selection and why it’s important?**\n",
            "**Answer:**\n",
            "- **Feature Selection:** Process of selecting the most relevant variables to use in model construction.\n",
            "- **Importance:** Reduces overfitting, improves accuracy, decreases training time.\n",
            "- **Methods:**\n",
            "  - **Filter:** Statistical tests (e.g., Chi-square for categorical data)\n",
            "  - **Wrapper:** Recursive Feature Elimination (RFE)\n",
            "  - **Embedded:** Lasso Regression automatically selects variables.\n",
            "- *Example*: Removing correlated features when building a churn prediction model.\n",
            "\n",
            "---\n",
            "\n",
            "### 9. **What is PCA and when would you use it?**\n",
            "**Answer:**\n",
            "- **Principal Component Analysis (PCA):** Dimensionality reduction technique that transforms correlated features into a smaller number of uncorrelated features (principal components).\n",
            "- **Used when:** You have high-dimensional data and want to reduce noise, speed up training, and avoid multicollinearity.\n",
            "- *Example*: Reducing hundreds of gene expression features in bioinformatics applications.\n",
            "\n",
            "---\n",
            "\n",
            "### 10. **Explain the difference between bagging and boosting.**\n",
            "**Answer:**\n",
            "- **Bagging (Bootstrap Aggregating):** Builds multiple independent models (usually of same type), trains each on different random samples of the data, averages their predictions.\n",
            "  - *Example*: Random Forest.\n",
            "- **Boosting:** Trains models sequentially, where each new model focuses on correcting errors made by previous ones. Predictions are combined for final output.\n",
            "  - *Example*: Gradient Boosting, AdaBoost.\n",
            "\n",
            "---\n",
            "\n",
            "Feel free to ask for more specific questions, or let me know if you need more technical/deep-dive examples!\n"
          ]
        }
      ]
    },
    {
      "cell_type": "code",
      "source": [
        "import google.generativeai as genai\n",
        "genai.configure(api_key='AIzaSyDeWb_YHqvrzK7rCHc4SBJg_FJ5f4o')\n",
        "model=genai.GenerativeModel('gemini-1.5-flash')\n",
        "chat=model.start_chat()\n",
        "response=chat.send_message(''' tell me about most important interview questions about datascience can you write in point wise and also give answer with specific examples''')\n",
        "print(response.text)"
      ],
      "metadata": {
        "colab": {
          "base_uri": "https://localhost:8080/",
          "height": 1000
        },
        "id": "BcBvv3FMj3Zq",
        "outputId": "ca0534a3-64e3-44ff-86de-392c44f1eca0"
      },
      "execution_count": null,
      "outputs": [
        {
          "output_type": "stream",
          "name": "stdout",
          "text": [
            "## Most Important Data Science Interview Questions & Answers (Point-wise)\n",
            "\n",
            "Here's a breakdown of crucial data science interview questions, categorized for clarity, along with example answers. Remember to tailor your responses to your specific experiences and the job description.\n",
            "\n",
            "\n",
            "**I. Foundational Concepts:**\n",
            "\n",
            "* **1. What is the difference between supervised and unsupervised learning? Give examples.**\n",
            "    * **Answer:** Supervised learning uses labeled data (input features and corresponding output variables) to train a model to predict outcomes on new, unseen data. Examples include linear regression (predicting house prices based on size and location) and image classification (identifying cats vs. dogs in images). Unsupervised learning uses unlabeled data to discover patterns and structures within the data. Examples include clustering (grouping customers based on purchasing behavior) and dimensionality reduction (reducing the number of variables in a dataset while retaining important information).\n",
            "\n",
            "* **2. Explain bias-variance tradeoff.**\n",
            "    * **Answer:** The bias-variance tradeoff describes the balance between a model's ability to fit the training data (low bias) and its ability to generalize to new data (low variance). High bias leads to underfitting (the model is too simple and doesn't capture the underlying patterns), while high variance leads to overfitting (the model is too complex and memorizes the training data, performing poorly on new data).  A good model strikes a balance between these two.  For example, a linear regression model might have high bias if the relationship is actually non-linear, while a very high-degree polynomial model might have high variance.\n",
            "\n",
            "* **3. What are different types of data?**\n",
            "    * **Answer:** Data can be categorized in several ways:\n",
            "        * **By structure:** Structured (organized in a predefined format like tables), semi-structured (contains tags or markers to separate semantic elements, like JSON or XML), unstructured (no predefined format, like text, images, audio).\n",
            "        * **By type:** Numerical (continuous or discrete), categorical (nominal or ordinal), textual, image, audio, video.\n",
            "        * **By level of measurement:** Nominal (categories with no order), ordinal (categories with order), interval (equal intervals between values, but no true zero point, like temperature in Celsius), ratio (equal intervals and a true zero point, like height or weight).\n",
            "\n",
            "\n",
            "**II. Statistical Knowledge:**\n",
            "\n",
            "* **4. Explain p-value and its significance in hypothesis testing.**\n",
            "    * **Answer:**  The p-value is the probability of observing the obtained results (or more extreme results) if the null hypothesis is true.  A small p-value (typically below a significance level, like 0.05) suggests that the null hypothesis is unlikely, providing evidence to reject it in favor of the alternative hypothesis. For example, if testing if a new drug lowers blood pressure, a small p-value would suggest the drug is effective.  However, it's crucial to consider effect size and context, not just the p-value alone.\n",
            "\n",
            "* **5. What is a confidence interval?**\n",
            "    * **Answer:** A confidence interval provides a range of values within which a population parameter (like the mean) is likely to fall with a certain level of confidence (e.g., 95%).  For instance, a 95% confidence interval for the average height of women might be [162cm, 168cm], meaning we are 95% confident that the true average height lies within this range.\n",
            "\n",
            "* **6. What is the difference between correlation and causation?**\n",
            "    * **Answer:** Correlation measures the association between two variables. A correlation between ice cream sales and crime rates doesn't imply that ice cream causes crime (or vice-versa).  Causation implies that one variable directly influences another.  To establish causation, you need controlled experiments or strong evidence ruling out other factors.\n",
            "\n",
            "\n",
            "**III. Machine Learning Algorithms:**\n",
            "\n",
            "* **7. Explain the difference between Linear Regression and Logistic Regression.**\n",
            "    * **Answer:** Linear regression predicts a continuous outcome variable using a linear combination of input features.  Logistic regression predicts the probability of a binary outcome (0 or 1) using a sigmoid function applied to a linear combination of input features.  Linear regression predicts a value (house price), while logistic regression predicts a probability (likelihood of customer churn).\n",
            "\n",
            "* **8. Explain how a decision tree works.**\n",
            "    * **Answer:** A decision tree recursively partitions the data based on features to create a tree-like structure.  Each internal node represents a feature, each branch represents a decision rule, and each leaf node represents an outcome.  The goal is to build a tree that accurately predicts the outcome based on the feature values.\n",
            "\n",
            "* **9. Describe the k-Nearest Neighbors algorithm.**\n",
            "    * **Answer:** K-NN is a non-parametric method for classification or regression.  It classifies a new data point based on the majority class among its k-nearest neighbors in the feature space.  For regression, it averages the values of the k-nearest neighbors.  The choice of 'k' and distance metric is important.\n",
            "\n",
            "* **10. What is overfitting and how can you prevent it?**\n",
            "    * **Answer:** Overfitting occurs when a model learns the training data too well, including its noise, resulting in poor generalization to new data.  Techniques to prevent overfitting include:\n",
            "        * **Cross-validation:** Evaluating the model on unseen data during training.\n",
            "        * **Regularization:** Adding penalty terms to the model's loss function to discourage complex models.\n",
            "        * **Feature selection/engineering:** Reducing the number of features or creating more informative ones.\n",
            "        * **Pruning (for decision trees):** Removing branches that don't significantly improve accuracy.\n",
            "\n",
            "\n",
            "**IV. Data Wrangling & Preprocessing:**\n",
            "\n",
            "* **11. How would you handle missing values in a dataset?**\n",
            "    * **Answer:**  Strategies depend on the nature of the data and the amount of missingness.  Options include:\n",
            "        * **Deletion:** Removing rows or columns with missing values (only if a small percentage is missing).\n",
            "        * **Imputation:** Filling in missing values using methods like mean/median/mode imputation, k-NN imputation, or model-based imputation.\n",
            "\n",
            "\n",
            "**V.  Practical Application & Problem Solving:**\n",
            "\n",
            "* **12.  Walk me through a data science project you’ve worked on.** (Be prepared with a STAR method response - Situation, Task, Action, Result)\n",
            "* **13.  How would you approach a new business problem using data science?** (Show your structured problem-solving approach)\n",
            "\n",
            "\n",
            "This list isn't exhaustive, but it covers many frequently asked interview questions. Remember to focus on demonstrating your understanding of core concepts, your problem-solving abilities, and your practical experience.  Good luck!\n",
            "\n"
          ]
        }
      ]
    },
    {
      "cell_type": "markdown",
      "source": [
        "# Assisment Task 1: Classify Customer Reviews (Using gpt-4.1)"
      ],
      "metadata": {
        "id": "kuUWlyWHvR5G"
      }
    },
    {
      "cell_type": "code",
      "source": [
        "prompt='''I ordered a book two weeks ago, and it still hasn't arrived. The tracking\n",
        "information is not updating either.categories: Delivery Issues, Product Quality, and\n",
        "General Feedback can you tell according to the above customer review is it belong to which categories'''\n",
        "prompt_api(prompt)"
      ],
      "metadata": {
        "colab": {
          "base_uri": "https://localhost:8080/"
        },
        "id": "dqqgdE4_vQn7",
        "outputId": "4e953382-667a-4fe5-a5a3-2db58d873265"
      },
      "execution_count": null,
      "outputs": [
        {
          "output_type": "stream",
          "name": "stdout",
          "text": [
            "According to the customer review, the issue belongs to the **Delivery Issues** category.\n",
            "\n",
            "**Reason:** The customer is concerned that the book hasn't arrived after two weeks, and the tracking information is not updating. This relates specifically to the delivery process, not the quality of the product or general feedback.\n"
          ]
        }
      ]
    },
    {
      "cell_type": "code",
      "source": [
        "prompt='''The book I received was damaged. The cover had scratches, and some pages\n",
        "were torn.categories: Delivery Issues, Product Quality, and\n",
        "General Feedback can you tell according to the above customer review is it belong to which categories? and also write  it in simple manner.'''\n",
        "prompt_api(prompt)"
      ],
      "metadata": {
        "colab": {
          "base_uri": "https://localhost:8080/"
        },
        "id": "-AFtNeR6vGg7",
        "outputId": "654ba07a-228d-4f98-819c-c2fa45bbdfd1"
      },
      "execution_count": null,
      "outputs": [
        {
          "output_type": "stream",
          "name": "stdout",
          "text": [
            "According to the customer review, \"The book I received was damaged. The cover had scratches, and some pages were torn,\" the issue belongs to the category: **Product Quality**.\n",
            "\n",
            "In simple terms:\n",
            "This review is about Product Quality because the book was damaged, with a scratched cover and torn pages.\n"
          ]
        }
      ]
    },
    {
      "cell_type": "code",
      "source": [
        "prompt='''Your collection is fantastic! I found some rare books I've been searching for a\n",
        "long time. Keep it up!\n",
        "categories: Delivery Issues, Product Quality, and General Feedback\n",
        "can you tell according to the above customer review is it belong to which categories? and also write  it in simple manner.'''\n",
        "prompt_api(prompt)\n"
      ],
      "metadata": {
        "colab": {
          "base_uri": "https://localhost:8080/"
        },
        "id": "Xd2hHBnhxNjT",
        "outputId": "23f4fd46-c116-48df-86b0-298acd29e61b"
      },
      "execution_count": null,
      "outputs": [
        {
          "output_type": "stream",
          "name": "stdout",
          "text": [
            "Based on the customer's review:\n",
            "\n",
            "Your collection is fantastic! I found some rare books I've been searching for a long time. Keep it up!\n",
            "\n",
            "Category: General Feedback\n",
            "\n",
            "Simple Summary:  \n",
            "The customer is happy with the collection and found rare books they were looking for.\n"
          ]
        }
      ]
    },
    {
      "cell_type": "markdown",
      "source": [
        "# Assisment Task 1: Classify Customer Reviews (Using gemini)"
      ],
      "metadata": {
        "id": "NG5s67F8xtjU"
      }
    },
    {
      "cell_type": "code",
      "source": [
        "import google.generativeai as genai\n",
        "def gemini_prompt(prompt_text):\n",
        "  genai.configure(api_key=\"AIzDeWbC2Nm_YHqvrzK7rCHc4SBJg_FJ5f4o\")\n",
        "  model=genai.GenerativeModel('gemini-1.5-flash')\n",
        "  chat=model.start_chat()\n",
        "  response=chat.send_message(prompt_text)\n",
        "  return print(response.text)"
      ],
      "metadata": {
        "id": "Th3Gtb5WxqJk"
      },
      "execution_count": null,
      "outputs": []
    },
    {
      "cell_type": "code",
      "source": [
        "prompt_text='''I ordered a book two weeks ago, and it still hasn't arrived. The tracking\n",
        "information is not updating either.categories: Delivery Issues, Product Quality, and\n",
        "General Feedback can you tell according to the above customer review is it belong to which categorie.'''\n",
        "gemini_prompt(prompt_text)"
      ],
      "metadata": {
        "colab": {
          "base_uri": "https://localhost:8080/",
          "height": 72
        },
        "id": "DXZBL_lk3FAF",
        "outputId": "3cff918b-5257-46c6-def0-28893ac71ba7"
      },
      "execution_count": null,
      "outputs": [
        {
          "output_type": "stream",
          "name": "stdout",
          "text": [
            "This customer review belongs to the **Delivery Issues** category.  The core complaint is about the late arrival and lack of tracking updates, both directly related to the shipping and delivery process.\n",
            "\n"
          ]
        }
      ]
    },
    {
      "cell_type": "code",
      "source": [
        "prompt_text='''The book I received was damaged. The cover had scratches, and some pages\n",
        "were torn.categories: Delivery Issues, Product Quality, and\n",
        "General Feedback can you tell according to the above customer review is it belong to which categorie? and also write  it in simple manner.'''\n",
        "gemini_prompt(prompt_text)"
      ],
      "metadata": {
        "colab": {
          "base_uri": "https://localhost:8080/",
          "height": 106
        },
        "id": "Ey249KAS3zvv",
        "outputId": "7a0b9560-ffa5-4928-a76f-ae405bc151c3"
      },
      "execution_count": null,
      "outputs": [
        {
          "output_type": "stream",
          "name": "stdout",
          "text": [
            "The review belongs to **Product Quality** and possibly **Delivery Issues**.\n",
            "\n",
            "Simply put: The book was damaged (poor quality), and this *might* have happened during delivery.\n",
            "\n"
          ]
        }
      ]
    },
    {
      "cell_type": "code",
      "source": [
        "prompt_text='''Your collection is fantastic! I found some rare books I've been searching for a\n",
        "long time. Keep it up!\n",
        "categories: Delivery Issues, Product Quality, and General Feedback\n",
        "can you tell according to the above customer review is it belong to which categorie?you can select only one which is most relavent categorie and also write  it in simple manner.'''\n",
        "gemini_prompt(prompt_text)"
      ],
      "metadata": {
        "colab": {
          "base_uri": "https://localhost:8080/",
          "height": 72
        },
        "id": "WI_eSMWD3z0O",
        "outputId": "4570d992-cdb1-4e0d-d548-abe3c570236c"
      },
      "execution_count": null,
      "outputs": [
        {
          "output_type": "stream",
          "name": "stdout",
          "text": [
            "General Feedback.  The review expresses overall positive sentiment about the product (the book collection).\n",
            "\n"
          ]
        }
      ]
    },
    {
      "cell_type": "markdown",
      "source": [
        "# Task 2: Generate Personalized Email Responses(using openai)"
      ],
      "metadata": {
        "id": "5iwDKdFC5M2s"
      }
    },
    {
      "cell_type": "code",
      "source": [
        "prompt='''Compose personalized email responses for the following complaints using different\n",
        "tones:\n",
        "1. Casual and empathetic tone(tone should be friendly).\n",
        "2. Formal and concise tone(make the tone is in bussiness prospective).\n",
        "Complaint:\n",
        "\"I purchased a laptop from your store, and it stopped working within a week. I tried\n",
        "reaching out to your support team, but nobody responded. Please help!\"\n",
        "Objective:\n",
        "● Compare the tone and structure of the responses.'''\n",
        "\n",
        "prompt_api(prompt)\n"
      ],
      "metadata": {
        "colab": {
          "base_uri": "https://localhost:8080/"
        },
        "id": "XG1aE4NW5Lc9",
        "outputId": "c99359ed-cb01-4295-93f8-d08e0297e22a"
      },
      "execution_count": null,
      "outputs": [
        {
          "output_type": "stream",
          "name": "stdout",
          "text": [
            "Certainly! Here are two sample email responses to the customer complaint, each with a different tone. I’ll also provide a brief comparison afterward.\n",
            "\n",
            "---\n",
            "\n",
            "**1. Casual and Empathetic Tone**\n",
            "\n",
            "Subject: We’re here to help with your laptop issue!\n",
            "\n",
            "Hi [Customer Name],\n",
            "\n",
            "Oh no! I’m really sorry to hear that your new laptop isn’t working and that you couldn’t get in touch with our support team – that sounds super frustrating! \n",
            "\n",
            "Let’s get this sorted for you ASAP. Could you please send me your order number and a little more info about what’s happening with the laptop? I’ll make sure your case gets fast-tracked and that someone from our team reaches out to you directly.\n",
            "\n",
            "Thanks a lot for your patience, and I’m here if you need anything else!\n",
            "\n",
            "Best,  \n",
            "[Your Name]  \n",
            "Customer Care Team\n",
            "\n",
            "---\n",
            "\n",
            "**2. Formal and Concise Tone**\n",
            "\n",
            "Subject: Immediate Assistance Regarding Your Laptop Purchase\n",
            "\n",
            "Dear [Customer Name],\n",
            "\n",
            "Thank you for contacting us regarding your recent laptop purchase.\n",
            "\n",
            "We apologize for the inconvenience you have experienced and for the lack of timely response from our support team. Please provide your order number and a brief description of the issue, so we may investigate and resolve your concern promptly.\n",
            "\n",
            "Your satisfaction is important to us, and we appreciate your patience.\n",
            "\n",
            "Best regards,  \n",
            "[Your Name]  \n",
            "Customer Support Supervisor\n",
            "\n",
            "---\n",
            "\n",
            "**Comparison of Tone and Structure:**\n",
            "\n",
            "- **Tone:**\n",
            "  - The first (casual and empathetic) response is friendly, uses conversational language (\"Oh no!\", \"super frustrating!\"), and expresses empathy for the customer’s experience.\n",
            "  - The second (formal and concise) response maintains a professional business tone, uses polite and direct language, and avoids colloquialisms.\n",
            "\n",
            "- **Structure:**\n",
            "  - The casual email is more personal and open, begins with an apology, and encourages continued conversation in a relaxed manner.\n",
            "  - The formal email is structured, to-the-point, and prioritizes efficiency. It quickly acknowledges the issue, apologizes, requests required information, and assures prompt action, all in a succinct way.\n",
            "\n",
            "Both address the customer’s complaint but are tailored to different contexts or customer expectations.\n"
          ]
        }
      ]
    },
    {
      "cell_type": "code",
      "source": [
        "prompt_text='''Compose personalized email responses for the following complaints using different\n",
        "tones:\n",
        "1. Casual and empathetic tone(tone should be friendly).\n",
        "2. Formal and concise tone(make the tone is in bussiness prospective).\n",
        "Complaint:\n",
        "\"I purchased a laptop from your store, and it stopped working within a week. I tried\n",
        "reaching out to your support team, but nobody responded. Please help!\"\n",
        "Objective:\n",
        "● Compare the tone and structure of the responses.'''\n",
        "\n",
        "gemini_prompt(prompt_text)"
      ],
      "metadata": {
        "colab": {
          "base_uri": "https://localhost:8080/",
          "height": 835
        },
        "id": "6tntkZ0b71wm",
        "outputId": "348b3026-4416-46a9-93aa-7557666404c0"
      },
      "execution_count": null,
      "outputs": [
        {
          "output_type": "stream",
          "name": "stdout",
          "text": [
            "**1. Casual and Empathetic Tone:**\n",
            "\n",
            "Subject: So sorry to hear about your laptop!\n",
            "\n",
            "Hey [Customer Name],\n",
            "\n",
            "Oh no! I'm so sorry to hear your laptop stopped working so soon after you bought it. That's incredibly frustrating, and I completely understand your disappointment.  I also apologize that you haven't heard back from our support team – that's definitely not the service we aim for.\n",
            "\n",
            "Let's get this sorted out. Could you please reply to this email with your order number and a brief description of what's happening with the laptop?  We'll get someone from our tech support team to contact you directly within 24 hours to help troubleshoot the issue or arrange a repair/replacement.  We really appreciate your patience.\n",
            "\n",
            "Thanks,\n",
            "[Your Name]\n",
            "[Your Title/Company]\n",
            "\n",
            "\n",
            "**2. Formal and Concise Tone:**\n",
            "\n",
            "Subject: Regarding your recent laptop purchase – Order # [Order Number]\n",
            "\n",
            "Dear [Customer Name],\n",
            "\n",
            "Thank you for contacting us regarding your recent laptop purchase. We understand your concern about the device malfunctioning within one week of purchase and the lack of response from our support team. We sincerely apologize for this inconvenience.\n",
            "\n",
            "Please provide further details regarding the issue, including the specifics of the malfunction and your order number ([Order Number] if you can provide it).  We will investigate this matter and will contact you within 24-48 business hours with a resolution.\n",
            "\n",
            "Sincerely,\n",
            "[Your Name]\n",
            "[Your Title/Company]\n",
            "\n",
            "\n",
            "**Comparison of Tone and Structure:**\n",
            "\n",
            "| Feature        | Casual and Empathetic Tone                                     | Formal and Concise Tone                                      |\n",
            "|----------------|-----------------------------------------------------------------|---------------------------------------------------------------|\n",
            "| **Salutation** | Informal (\"Hey [Customer Name]\")                               | Formal (\"Dear [Customer Name]\")                               |\n",
            "| **Opening**     | Expresses empathy and acknowledges frustration directly.     | States the purpose of the email concisely.                   |\n",
            "| **Language**   | Uses contractions, colloquialisms (\"Oh no!\", \"get this sorted\") | Uses formal language, avoids contractions.                     |\n",
            "| **Apology**     | Direct and heartfelt                                          | Formal and brief                                              |\n",
            "| **Action Request** | Polite and encouraging (\"Could you please...\")                   | Direct and instruction-oriented (\"Please provide...\")          |\n",
            "| **Response Time**| Specific and reassuring (\"within 24 hours\")                    | Provides a timeframe, but slightly less specific (\"24-48 hours\") |\n",
            "| **Closing**      | Friendly and appreciative (\"Thanks\")                           | Formal and professional (\"Sincerely\")                          |\n",
            "| **Overall**      | Focuses on building rapport and reassuring the customer.       | Focuses on efficiency and resolving the issue professionally. |\n",
            "\n",
            "\n",
            "The casual tone prioritizes building a positive relationship with the customer through empathy and friendly language. The formal tone emphasizes professionalism, efficiency, and a clear, concise resolution process.  Both achieve the objective of addressing the complaint, but their approaches differ significantly in style and tone.\n",
            "\n"
          ]
        }
      ]
    },
    {
      "cell_type": "code",
      "source": [
        "prompt='''Review:\n",
        "\"I recently bought a gaming mouse from your website. I use Windows 11, and the\n",
        "mouse disconnects randomly during use. My order number is ORD123456. Please\n",
        "assist.\"\n",
        "Required JSON Format:\n",
        "{\n",
        "\"product\": \"\",\n",
        "\"operating_system\": \"\",\n",
        "\"issue_description\": \"\",\n",
        "\"order_number\": \"\"\n",
        "}\n",
        "Objective:\n",
        "● Write a Python function that generates the required structured JSON format\n",
        "using the chat model.\n",
        "● Demonstrate how to parse and return the extracted details in the correct JSON\n",
        "structure.'''\n",
        "prompt_api(prompt)"
      ],
      "metadata": {
        "colab": {
          "base_uri": "https://localhost:8080/"
        },
        "id": "HPyws-grCZmo",
        "outputId": "e4bc3cfd-5f1c-4b9f-9b02-ed22c2cb989a"
      },
      "execution_count": null,
      "outputs": [
        {
          "output_type": "stream",
          "name": "stdout",
          "text": [
            "Certainly! Here’s how you can write a Python function using OpenAI’s chat model (such as gpt-3.5-turbo or gpt-4) to extract relevant information and output it in the specified JSON format.\n",
            "\n",
            "First, let's outline the approach:\n",
            "1. Send the review text and ask the model to extract product, operating_system, issue_description, and order_number.\n",
            "2. Parse the model's response.\n",
            "3. Return the structured JSON object.\n",
            "\n",
            "Here’s the code:\n",
            "\n",
            "import openai\n",
            "import json\n",
            "\n",
            "def extract_review_details(review_text):\n",
            "    SYSTEM_PROMPT = (\n",
            "        \"You extract keywords from customer reviews. \"\n",
            "        \"Return a JSON object with the following keys: product, operating_system, \"\n",
            "        \"issue_description, and order_number. Extract values directly from the input. \"\n",
            "        \"Example: \\n\"\n",
            "        \"Input: 'I bought a gaming mouse...mouse disconnects...' \\n\"\n",
            "        \"Output: {\"\n",
            "        \"\\\"product\\\": \\\"gaming mouse\\\", \"\n",
            "        \"\\\"operating_system\\\": \\\"Windows 11\\\", \"\n",
            "        \"\\\"issue_description\\\": \\\"mouse disconnects randomly during use\\\", \"\n",
            "        \"\\\"order_number\\\": \\\"ORD123456\\\"}\"\n",
            "    )\n",
            "\n",
            "    messages = [\n",
            "        {\"role\": \"system\", \"content\": SYSTEM_PROMPT},\n",
            "        {\"role\": \"user\", \"content\": review_text}\n",
            "    ]\n",
            "    \n",
            "    # Call the OpenAI chat model\n",
            "    response = openai.ChatCompletion.create(\n",
            "        model=\"gpt-3.5-turbo\",  # or \"gpt-4\"\n",
            "        messages=messages,\n",
            "        temperature=0\n",
            "    )\n",
            "    # Extract the generated text\n",
            "    output = response['choices'][0]['message']['content'].strip()\n",
            "    # Load as JSON object\n",
            "    extracted_json = json.loads(output)\n",
            "    return extracted_json\n",
            "\n",
            "# Example usage:\n",
            "review = \"\"\"I recently bought a gaming mouse from your website. I use Windows 11, and the\n",
            "mouse disconnects randomly during use. My order number is ORD123456. Please\n",
            "assist.\"\"\"\n",
            "\n",
            "extracted_info = extract_review_details(review)\n",
            "print(json.dumps(extracted_info, indent=2))\n",
            "\n",
            "Sample output:\n",
            "\n",
            "{\n",
            "  \"product\": \"gaming mouse\",\n",
            "  \"operating_system\": \"Windows 11\",\n",
            "  \"issue_description\": \"mouse disconnects randomly during use\",\n",
            "  \"order_number\": \"ORD123456\"\n",
            "}\n",
            "\n",
            "Key Points:\n",
            "\n",
            "- The function extract_review_details takes the review text, queries the chat model, and returns a parsed JSON object as required.\n",
            "- You can change the model (gpt-3.5-turbo or gpt-4) as per your account access.\n",
            "- Make sure the openai Python package is installed and configured with your API key.\n",
            "- Always validate and handle potential exceptions, especially around JSON parsing (not shown here for brevity).\n",
            "\n",
            "Let me know if you want a more robust version with error handling or a demonstration using a different AI tool!\n"
          ]
        }
      ]
    },
    {
      "cell_type": "code",
      "source": [
        "prompt_text='''Review:\n",
        "I recently bought a gaming mouse from your website. I use Windows 11, and the\n",
        "mouse disconnects randomly during use. My order number is ORD123456. Please\n",
        "assist.\"\n",
        "Required JSON Format:\n",
        "{\n",
        "\"product\": \"\",\n",
        "\"operating_system\": \"\",\n",
        "\"issue_description\": \"\",\n",
        "\"order_number\": \"\"\n",
        "}\n",
        "Objective:\n",
        "● Write a Python function that generates the required structured JSON format\n",
        "using the chat model.\n",
        "● Demonstrate how to parse and return the extracted details in the correct JSON\n",
        "structure.'''\n",
        "gemini_prompt(prompt_text)"
      ],
      "metadata": {
        "colab": {
          "base_uri": "https://localhost:8080/",
          "height": 1000
        },
        "id": "fMs7xUTVDPbS",
        "outputId": "8434b3e1-e289-4d10-b696-adcb629a36c8"
      },
      "execution_count": null,
      "outputs": [
        {
          "output_type": "stream",
          "name": "stdout",
          "text": [
            "```python\n",
            "import json\n",
            "import re\n",
            "\n",
            "def parse_review_to_json(review_text):\n",
            "    \"\"\"\n",
            "    Parses a customer review text and extracts relevant information to generate a JSON object.\n",
            "\n",
            "    Args:\n",
            "        review_text: The customer review text.\n",
            "\n",
            "    Returns:\n",
            "        A JSON string representing the extracted information, or None if parsing fails.\n",
            "    \"\"\"\n",
            "\n",
            "    try:\n",
            "        # Use regular expressions to extract information.  This is more robust than simple string splitting.\n",
            "        product_match = re.search(r\"gaming mouse\", review_text, re.IGNORECASE)\n",
            "        operating_system_match = re.search(r\"Windows (\\d+)\", review_text)\n",
            "        issue_description_match = re.search(r\"disconnects randomly(.*)\", review_text, re.IGNORECASE)\n",
            "        order_number_match = re.search(r\"ORD(\\d+)\", review_text)\n",
            "\n",
            "\n",
            "        product = product_match.group(0) if product_match else \"Unknown\"\n",
            "        operating_system = operating_system_match.group(1) if operating_system_match else \"Unknown\"\n",
            "        issue_description = issue_description_match.group(1).strip() if issue_description_match else \"Unknown\"\n",
            "        order_number = order_number_match.group(1) if order_number_match else \"Unknown\"\n",
            "\n",
            "\n",
            "        json_data = {\n",
            "            \"product\": product,\n",
            "            \"operating_system\": operating_system,\n",
            "            \"issue_description\": issue_description,\n",
            "            \"order_number\": order_number\n",
            "        }\n",
            "\n",
            "        return json.dumps(json_data, indent=2)  #Return as pretty-printed JSON\n",
            "\n",
            "    except Exception as e:\n",
            "        print(f\"Error parsing review: {e}\")\n",
            "        return None\n",
            "\n",
            "\n",
            "# Example usage:\n",
            "review = \"I recently bought a gaming mouse from your website. I use Windows 11, and the mouse disconnects randomly during use. My order number is ORD123456. Please assist.\"\n",
            "json_output = parse_review_to_json(review)\n",
            "\n",
            "if json_output:\n",
            "    print(json_output)\n",
            "\n",
            "    #Demonstrating parsing the JSON output (optional but good practice)\n",
            "    parsed_json = json.loads(json_output)\n",
            "    print(\"\\nParsed JSON data:\")\n",
            "    for key, value in parsed_json.items():\n",
            "        print(f\"{key}: {value}\")\n",
            "\n",
            "```\n"
          ]
        }
      ]
    },
    {
      "cell_type": "markdown",
      "source": [
        "#Task 4: Create Product Names(openai)\n"
      ],
      "metadata": {
        "id": "35FHPsMuD0Gc"
      }
    },
    {
      "cell_type": "code",
      "source": [
        "prompt='''Generate 5 creative product names for a smart home assistant.\n",
        "● First, use a low temperature (deterministic output).\n",
        "● Then, use a high temperature (creative and varied output).\n",
        "Objective:\n",
        "● Create and compare product names generated with both low and high\n",
        "temperature settings.\n",
        "● Discuss the impact of temperature on creativity and output consistency.'''\n",
        "prompt_api(prompt)\n"
      ],
      "metadata": {
        "colab": {
          "base_uri": "https://localhost:8080/"
        },
        "id": "L160JjqUDzBv",
        "outputId": "b740cccf-7cfd-4b47-a2ee-d5e57a061d50"
      },
      "execution_count": null,
      "outputs": [
        {
          "output_type": "stream",
          "name": "stdout",
          "text": [
            "Certainly! Here’s how a smart home assistant’s product names might be generated under different model \"temperature\" settings.\n",
            "\n",
            "---\n",
            "\n",
            "### 1. Low Temperature (Deterministic Output)\n",
            "*Low temperature settings prioritize predictability, logical coherence, and repetition based on the most common training data; outputs are consistent and safe.*\n",
            "\n",
            "**Product Names:**\n",
            "1. HomeMate Assistant\n",
            "2. Smart Home Hub\n",
            "3. EchoHome\n",
            "4. Family Assistant\n",
            "5. Home Control\n",
            "\n",
            "---\n",
            "\n",
            "### 2. High Temperature (Creative and Varied Output)\n",
            "*High temperature promotes riskier, more diverse, and creative outputs. The names may be unconventional, playful, or unexpected.*\n",
            "\n",
            "**Product Names:**\n",
            "1. LumiNest\n",
            "2. WhizWink\n",
            "3. CasaMuse\n",
            "4. Orbitelli\n",
            "5. Zentrova\n",
            "\n",
            "---\n",
            "\n",
            "## Comparison & Discussion:\n",
            "\n",
            "**Output Consistency:**\n",
            "- **Low Temperature:** Outputs are reliable and generic, resembling existing products (e.g., HomeMate, Smart Home Hub). They’re instantly recognizable but can feel uninspired.\n",
            "- **High Temperature:** Names are more unique and imaginative (e.g., LumiNest, Orbitelli), but may be less instantly recognizable as smart home assistants.\n",
            "\n",
            "**Creativity:**\n",
            "- **Low Temperature:** Creativity is restricted. The focus is on clarity and familiarity.\n",
            "- **High Temperature:** There's much more creativity, leading to fresh and brandable options, although some names might stray too far from the product’s function.\n",
            "\n",
            "**Conclusion:**  \n",
            "Temperature dramatically affects output style. Lower values yield safe, expected names; higher values enable originality and distinction but with potential for ambiguity. For new brands seeking attention, a higher-temperature approach can yield standout names, but lower temperatures offer familiarity and trust—which is also valuable for consumer technology. A blended approach (medium temperature or careful curation) often yields the best results for product naming.\n"
          ]
        }
      ]
    },
    {
      "cell_type": "code",
      "source": [
        "prompt_text='''Generate 5 creative product names for a smart home assistant.\n",
        "● First, use a low temperature (deterministic output).\n",
        "● Then, use a high temperature (creative and varied output).\n",
        "Objective:\n",
        "● Create and compare product names generated with both low and high\n",
        "temperature settings.\n",
        "● Discuss the impact of temperature on creativity and output consistency.'''\n",
        "gemini_prompt(prompt_text)"
      ],
      "metadata": {
        "colab": {
          "base_uri": "https://localhost:8080/",
          "height": 610
        },
        "id": "1BQSW7zuEjXJ",
        "outputId": "22464e4d-f0e2-43b2-cad4-4fcda209b43a"
      },
      "execution_count": null,
      "outputs": [
        {
          "output_type": "stream",
          "name": "stdout",
          "text": [
            "## Smart Home Assistant Product Names:\n",
            "\n",
            "**Low Temperature (Deterministic):**\n",
            "\n",
            "1. **HomeWise:**  Simple, clear, and conveys intelligence and home-centric functionality.\n",
            "\n",
            "\n",
            "**High Temperature (Creative & Varied):**\n",
            "\n",
            "1. **AuraNest:** Evokes a sense of comfort, ambiance, and interconnectedness within the home.  The combination of words is unusual and memorable.\n",
            "2. **EchoBloom:**  Suggests expansion and growth of smart home capabilities, along with a hint of technological magic.\n",
            "3. **SynapseLink:** Implies a seamless connection and intelligent integration of home systems, using technical jargon in a creative way.\n",
            "4. **HavenAI:**  Combines the feeling of safety and security (\"Haven\") with the advanced technology (\"AI\").\n",
            "5. **SparrowSense:**  A whimsical name suggesting quick responses and keen awareness of the home environment.\n",
            "\n",
            "\n",
            "**Comparison:**\n",
            "\n",
            "The low-temperature output produced a predictable, straightforward name.  \"HomeWise\" is functional, easily understood, and lacks significant creative flair. It's a safe choice, ideal if branding prioritizes clarity and trust above all else.\n",
            "\n",
            "The high-temperature output, however, yielded diverse and imaginative names.  They are more memorable and evocative, each carrying a unique brand identity and potential emotional connection with the customer.  However, this increased creativity comes at the cost of predictability.  Some names might be harder to understand at first glance or might not be suitable for all target audiences.\n",
            "\n",
            "\n",
            "**Impact of Temperature on Creativity and Output Consistency:**\n",
            "\n",
            "Temperature in this context acts as a control for randomness and creativity.\n",
            "\n",
            "* **Low Temperature:**  Leads to consistent, predictable outputs. The names are likely to be similar in style and easily understood, but they lack distinctive character.  This is valuable when a clear, brand-consistent message is paramount.\n",
            "\n",
            "* **High Temperature:** Produces highly varied and creative outputs. The names are more memorable and intriguing, potentially appealing to a wider range of customers.  However, the output is less consistent, and some generated names might be less suitable for the product's intended market.  This requires more curation and selection, leading to a longer name-finding process.\n",
            "\n",
            "In essence, the choice of temperature depends on the desired balance between creativity and consistency in the branding process.  A low temperature is useful for initial brainstorming or when seeking a safe and recognizable brand image. A high temperature is beneficial when exploring novel and more evocative branding options, accepting a higher degree of randomness and subsequent filtering.\n",
            "\n"
          ]
        }
      ]
    },
    {
      "cell_type": "code",
      "source": [
        "prompt='''Original Prompt:\n",
        "\"Write an ad for a smart home device.\"\n",
        "● Rewrite the prompt to include specific details, such as:\n",
        "○ Target audience (e.g., busy professionals, tech enthusiasts).\n",
        "○ Key features of the product (e.g., voice control, energy efficiency).\n",
        "○ A catchy call-to-action.\n",
        "Objective:\n",
        "● Provide the improved prompt and show how it leads to a better-generated output.\n",
        "● Explain how the improvements to the prompt affect the response quality.\n",
        "Evaluation Criteria\n",
        "● Clarity and structure of prompts.\n",
        "● Correct implementation of Python code.\n",
        "● Relevance of generated outputs to the given tasks.\n",
        "● Ability to apply concepts such as temperature, tone variation, and structured\n",
        "outputs.'''\n",
        "prompt_api(prompt)"
      ],
      "metadata": {
        "colab": {
          "base_uri": "https://localhost:8080/"
        },
        "id": "ZyJ_Gs__FKRu",
        "outputId": "5a296128-a2b7-4b0d-ad40-ee90e99a9012"
      },
      "execution_count": null,
      "outputs": [
        {
          "output_type": "stream",
          "name": "stdout",
          "text": [
            "Certainly! Let’s address each part of your request step by step.\n",
            "\n",
            "---\n",
            "\n",
            "**Step 1: Rewrite the Prompt with Specific Details**\n",
            "\n",
            "**Original Prompt:**  \n",
            "\"Write an ad for a smart home device.\"\n",
            "\n",
            "**Improved Prompt:**  \n",
            "\"Write a lively ad for a smart thermostat targeted at busy professionals. Highlight key features such as voice control compatibility with popular assistants (like Alexa and Google Assistant), remote temperature adjustment via mobile app, and energy-saving modes that help lower utility bills. End with a catchy call-to-action encouraging readers to upgrade their home comfort today.\"\n",
            "\n",
            "---\n",
            "\n",
            "**Step 2: Show How the Improved Prompt Leads to a Better Output**\n",
            "\n",
            "**Output from Original Prompt:**\n",
            "Stay comfortable and connected with our smart home device! Control your devices easily and enjoy the convenience of modern technology. Get yours today!\n",
            "\n",
            "**Output from Improved Prompt:**\n",
            "Imagine coming home to the perfect temperature—no matter how hectic your day was! With our SmartThermo thermostat, busy professionals like you can control your home’s climate with your voice or a single tap on your phone. Sync effortlessly with Alexa or Google Assistant, adjust the temperature remotely, and save money with intelligent energy-saving modes. Don’t let your comfort wait—upgrade to SmartThermo and make every degree count!\n",
            "\n",
            "---\n",
            "\n",
            "**Step 3: Explanation of Improvements**\n",
            "\n",
            "- **Clarity and Structure:** The improved prompt specifies the device—smart thermostat—target audience—busy professionals—and the key features to highlight, leading to a focused, well-structured ad.\n",
            "- **Relevance:** The generated output is tailored to busy professionals, directly mentions features most attractive to them, and includes a strong, relevant call-to-action.\n",
            "- **Quality and Engagement:** The improved prompt encourages a more engaging and vivid description, making the ad more compelling and credible.\n",
            "- **Temperature and Tone:** By requesting a “lively” ad, the tone is more dynamic and enthusiastic, increasing appeal. Lower temperature values would yield more conservative language, while higher would create more creative, energetic ads.\n",
            "- **Structured Output:** The improved prompt naturally leads to an output that flows logically—introducing the product, highlighting features, and concluding with a call-to-action.\n",
            "\n",
            "---\n",
            "\n",
            "**Summary Table**\n",
            "\n",
            "| Criterion                  | Original Prompt                                            | Improved Prompt                                                           |\n",
            "|----------------------------|-----------------------------------------------------------|---------------------------------------------------------------------------|\n",
            "| **Clarity**                | Generic, undefined audience or product                    | Clearly targets busy professionals and a smart thermostat                  |\n",
            "| **Structure**              | Vague structure                                           | Specific features highlighted in logical order                             |\n",
            "| **Relevance**              | Generic message                                           | Content matches audience needs and product features                        |\n",
            "| **Engagement/Tone**        | Flat, non-specific                                       | Lively, direct, and engaging                                              |\n",
            "| **Call-to-Action**         | Generic (\"Get yours today!\")                              | Catchy and related to the product benefit (\"make every degree count!\")     |\n",
            "\n",
            "---\n",
            "\n",
            "**Conclusion:**  \n",
            "Adding audience and feature specifics to your prompts directly enhances the relevance, structure, and effectiveness of outputs. This leads to clearer, more persuasive, and better-targeted ads, demonstrating the value of prompt engineering.\n",
            "\n",
            "---\n",
            "\n",
            "**Python Implementation of Temperature (for reference):**\n",
            "While not directly requested, here is a simple code snippet demonstrating temperature variation effect for language model prompts:\n",
            "\n",
            "```python\n",
            "from openai import OpenAI\n",
            "client = OpenAI()\n",
            "\n",
            "def generate_ad(prompt, temperature=0.5):\n",
            "    response = client.completions.create(\n",
            "        model=\"gpt-3.5-turbo\",\n",
            "        prompt=prompt,\n",
            "        max_tokens=100,\n",
            "        temperature=temperature,\n",
            "        stop=[\"\\n\\n\"]\n",
            "    )\n",
            "    return response.choices[0].text.strip()\n",
            "\n",
            "improved_prompt = (\n",
            "    \"Write a lively ad for a smart thermostat targeted at busy professionals. \"\n",
            "    \"Highlight key features such as voice control compatibility with popular assistants, \"\n",
            "    \"remote temperature adjustment via mobile app, and energy-saving modes. \"\n",
            "    \"End with a catchy call-to-action encouraging readers to upgrade their home comfort today.\"\n",
            ")\n",
            "\n",
            "# Conservative/concise ad\n",
            "print(generate_ad(improved_prompt, temperature=0.3))\n",
            "# Creative/engaging ad\n",
            "print(generate_ad(improved_prompt, temperature=0.9))\n",
            "```\n",
            "\n",
            "---\n",
            "\n",
            "If you need further breakdown or examples, let me know!\n"
          ]
        }
      ]
    }
  ]
}